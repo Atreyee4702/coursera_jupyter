{
 "cells": [
  {
   "cell_type": "markdown",
   "id": "c8cb1bd2-fdd9-4bbb-b806-162ff3f46a47",
   "metadata": {},
   "source": [
    "# Data Science Tools and Ecosystems"
   ]
  },
  {
   "cell_type": "markdown",
   "id": "9c25d6ca-44fb-4acd-baa4-5ba32b4502ef",
   "metadata": {},
   "source": [
    "In this notebook, Data Science Tools and Ecosystem are summarized."
   ]
  },
  {
   "cell_type": "markdown",
   "id": "052dfde0-c935-4820-aa35-47b692d256e2",
   "metadata": {},
   "source": [
    "## Objectives of this Jupyter Notebook\n",
    "- shows a list of commonly used Data sc languages\n",
    "- shows a list of commonly used Data sc tools\n",
    "- shows an example of arithmetic operation\n",
    "- converts minutes to hours"
   ]
  },
  {
   "cell_type": "markdown",
   "id": "bed1c46e-ad2a-4761-b63b-1f24886f354b",
   "metadata": {},
   "source": [
    "Data science languages are listed below :\n",
    "1. Python\n",
    "2. R\n",
    "3. SQL\n",
    "4. Java\n",
    "\n"
   ]
  },
  {
   "cell_type": "markdown",
   "id": "940bc856-302b-49d4-a876-c8ec04a6effa",
   "metadata": {},
   "source": [
    "Some of the commonly used libraries used by Data Scientists include:\n",
    "\n",
    "1. Numpy\n",
    "2. Pandas\n",
    "3. Sci-kit Learn"
   ]
  },
  {
   "cell_type": "markdown",
   "id": "5edd2524-ffcd-4fc2-a888-4fa3b3493153",
   "metadata": {
    "tags": []
   },
   "source": [
    "| Data Science Tools |\n",
    "|---|\n",
    "|Apache Spark|\n",
    "|Jupyter Notebook|\n",
    "|MATLAB|"
   ]
  },
  {
   "cell_type": "markdown",
   "id": "f7239bde-3244-41a7-a9d5-7820e9256a30",
   "metadata": {},
   "source": [
    "#### Below are a few examples of evaluating arithmetic expressions in Python"
   ]
  },
  {
   "cell_type": "code",
   "execution_count": 6,
   "id": "330d8f3c-1ca6-4c68-8bdc-2706cda0eed1",
   "metadata": {
    "tags": []
   },
   "outputs": [
    {
     "data": {
      "text/plain": [
       "35"
      ]
     },
     "execution_count": 6,
     "metadata": {},
     "output_type": "execute_result"
    }
   ],
   "source": [
    "6+(2*4*3)+5"
   ]
  },
  {
   "cell_type": "code",
   "execution_count": 7,
   "id": "d8b37437-d260-49d0-91f9-8f0c6646ef0c",
   "metadata": {
    "tags": []
   },
   "outputs": [
    {
     "data": {
      "text/plain": [
       "4.666666666666667"
      ]
     },
     "execution_count": 7,
     "metadata": {},
     "output_type": "execute_result"
    }
   ],
   "source": [
    "# coverting 280 minutes to hours (1 hour=60 min)\n",
    "280/60"
   ]
  },
  {
   "cell_type": "markdown",
   "id": "ee3ab2af-237a-4a16-b2cc-028e31d40dbe",
   "metadata": {},
   "source": [
    "### Author of this Notebook\n",
    "Atreyee Roy"
   ]
  },
  {
   "cell_type": "code",
   "execution_count": null,
   "id": "5725de44-dcbe-4f2f-8981-176cf7abeb67",
   "metadata": {},
   "outputs": [],
   "source": []
  }
 ],
 "metadata": {
  "kernelspec": {
   "display_name": "Python",
   "language": "python",
   "name": "conda-env-python-py"
  },
  "language_info": {
   "codemirror_mode": {
    "name": "ipython",
    "version": 3
   },
   "file_extension": ".py",
   "mimetype": "text/x-python",
   "name": "python",
   "nbconvert_exporter": "python",
   "pygments_lexer": "ipython3",
   "version": "3.7.12"
  }
 },
 "nbformat": 4,
 "nbformat_minor": 5
}
